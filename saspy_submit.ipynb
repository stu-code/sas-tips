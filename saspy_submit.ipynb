{
 "cells": [
  {
   "cell_type": "markdown",
   "metadata": {},
   "source": [
    "## SAS Tip Tuesday: Submit SAS Code with SASPy\n",
    "*03/11/2025*\n",
    "\n",
    "- *Stu Sztukowski*\n",
    "- *https://linkedin.com/in/StatsGuy* | *https://github.com/stu-code*\n",
    "\n",
    "***\n",
    "\n",
    "One great thing about SASPy is that it also lets you run arbitrary SAS code. It's as easy as starting a connection and running sas.submit(). You can get output in list or HTML - your choice! With IPython.display you can easily display the returned ODS output if needed.\n",
    "\n",
    "When you're working with SASPy, you're in a full SAS session. This means you can do anything SAS can do:\n",
    "- Run SQL queries\n",
    "- Run the DATA Step\n",
    "- Run PROCs\n",
    "- Create libraries\n",
    "- Connect to CAS\n",
    "- Run CAS Actions with PROC CAS\n",
    "- etc."
   ]
  },
  {
   "cell_type": "code",
   "execution_count": 1,
   "metadata": {},
   "outputs": [],
   "source": [
    "import saspy\n",
    "from IPython.display import HTML"
   ]
  },
  {
   "cell_type": "markdown",
   "metadata": {},
   "source": [
    "## Start a SAS session\n",
    "\n",
    "You can configure the connection types you want within ~./config/saspy/sascfg_personal.py. \n",
    "\n",
    "We'll start a local connection to SAS installed on a local Windows machine, but you can easily connect to SAS Viya, SAS Grid, SAS Mainframe, or a remote SAS server. \n",
    "\n",
    "For more information on how to change how you connect to SAS, see:\n",
    "https://sassoftware.github.io/saspy/getting-started.html#start-a-sas-session"
   ]
  },
  {
   "cell_type": "code",
   "execution_count": null,
   "metadata": {},
   "outputs": [],
   "source": [
    "sas = saspy.SASsession(cfgname='winlocal')"
   ]
  },
  {
   "cell_type": "markdown",
   "metadata": {},
   "source": [
    "## Try a DATA Step\n",
    "\n",
    "Now that we have started a SAS session, we can run SAS any way we'd like. Let's run some SAS code directly to import data from a URL and print it."
   ]
  },
  {
   "cell_type": "code",
   "execution_count": 3,
   "metadata": {},
   "outputs": [],
   "source": [
    "res = sas.submit(code=\n",
    "'''\n",
    "filename in url \"https://github.com/stu-code/sas-tips/raw/refs/heads/main/data/insurance.csv\";\n",
    "\n",
    "proc import\n",
    "    file=in\n",
    "    out=insurance\n",
    "    dbms=csv\n",
    "    replace;\n",
    "run;\n",
    "'''\n",
    ")"
   ]
  },
  {
   "cell_type": "markdown",
   "metadata": {},
   "source": [
    "# Checking the log\n",
    "\n",
    "Now we've imported our data as work.insurance. To confirm this, you can easily check the log by printing sas.lastlog()"
   ]
  },
  {
   "cell_type": "code",
   "execution_count": null,
   "metadata": {},
   "outputs": [],
   "source": [
    "print(sas.lastlog())"
   ]
  },
  {
   "cell_type": "markdown",
   "metadata": {},
   "source": [
    "# Displaying Output\n",
    "\n",
    "Let's print the first 10 observations using PROC PRINT. We'll specify that we want HTML output and print it so it looks nice. Since it comes back as HTML, we'll need to use the HTML function to see it from IPython.display.\n",
    "\n",
    "To get the results, use `res['LST']`"
   ]
  },
  {
   "cell_type": "code",
   "execution_count": null,
   "metadata": {},
   "outputs": [],
   "source": [
    "res = sas.submit(code=\n",
    "'''\n",
    "proc print data=insurance(obs=10);\n",
    "run;\n",
    "'''\n",
    ")\n",
    "\n",
    "HTML(res['LST'])"
   ]
  },
  {
   "cell_type": "code",
   "execution_count": null,
   "metadata": {},
   "outputs": [],
   "source": [
    "res = sas.submit(\n",
    "'''\n",
    "proc glmselect data=insurance plots=all;\n",
    "    class sex smoker region;\n",
    "    model charges = age sex bmi children smoker region \n",
    "        / selection=stepwise(select=sl choose=adjrsq sle=0.1 sls=0.05) \n",
    "          showpvalues;\n",
    "run;\n",
    "'''\n",
    ")\n",
    "\n",
    "HTML(res['LST'])"
   ]
  },
  {
   "cell_type": "markdown",
   "metadata": {},
   "source": [
    "# Data Manipulation: DATA Step and SQL\n",
    "\n",
    "With sas.submit, you can do data manipulation with the DATA Step and SQL - whichever you like, in any order you like. You can mix and match Python and SAS. There is no limit to what order you do things and in what language you decide to do them."
   ]
  },
  {
   "cell_type": "code",
   "execution_count": 7,
   "metadata": {},
   "outputs": [],
   "source": [
    "res = sas.submit(code=\n",
    "'''\n",
    "data insurance2;\n",
    "    set insurance;\n",
    "    sex     = upcase(sex);\n",
    "    region  = upcase(region);\n",
    "    charges = round(charges);\n",
    "run;\n",
    "'''\n",
    ")"
   ]
  },
  {
   "cell_type": "code",
   "execution_count": null,
   "metadata": {},
   "outputs": [],
   "source": [
    "insurance2 = sas.sasdata('insurance2')\n",
    "insurance2.head()"
   ]
  },
  {
   "cell_type": "code",
   "execution_count": 9,
   "metadata": {},
   "outputs": [],
   "source": [
    "res = sas.submit(code=\n",
    "'''\n",
    "proc sql;\n",
    "    create table us_counties as\n",
    "        select t1.id as county_id\n",
    "             , t2.idname as county \n",
    "             , t1.county as county_id\n",
    "             , t1.statecode\n",
    "             , t1.x\n",
    "             , t1.y\n",
    "        from mapsgfk.us_counties as t1\n",
    "        LEFT JOIN\n",
    "             mapsgfk.us_counties_attr as t2\n",
    "        ON t1.id = t2.id\n",
    "    ;\n",
    "quit;\n",
    "'''              \n",
    ")"
   ]
  },
  {
   "cell_type": "code",
   "execution_count": null,
   "metadata": {},
   "outputs": [],
   "source": [
    "us_counites = sas.sasdata('us_counties')\n",
    "us_counites.head()"
   ]
  }
 ],
 "metadata": {
  "kernelspec": {
   "display_name": "Python 3",
   "language": "python",
   "name": "python3"
  },
  "language_info": {
   "codemirror_mode": {
    "name": "ipython",
    "version": 3
   },
   "file_extension": ".py",
   "mimetype": "text/x-python",
   "name": "python",
   "nbconvert_exporter": "python",
   "pygments_lexer": "ipython3",
   "version": "3.11.9"
  }
 },
 "nbformat": 4,
 "nbformat_minor": 2
}
